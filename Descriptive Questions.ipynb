{
 "cells": [
  {
   "cell_type": "markdown",
   "id": "62c31e60",
   "metadata": {},
   "source": [
    "# Descriptive Questions"
   ]
  },
  {
   "cell_type": "markdown",
   "id": "beee8359",
   "metadata": {},
   "source": [
    "## Caitlin Sizemore"
   ]
  },
  {
   "cell_type": "markdown",
   "id": "ed42bc6b",
   "metadata": {},
   "source": [
    "### CS 150-01 Fall 2022"
   ]
  },
  {
   "cell_type": "markdown",
   "id": "3a307a38",
   "metadata": {},
   "source": [
    "#### 1. Lists are mutable (can be changed/updated) and tuples are immutable (cannot be changed/updated)\n",
    "\n"
   ]
  },
  {
   "cell_type": "code",
   "execution_count": 11,
   "id": "7208c6c1",
   "metadata": {},
   "outputs": [],
   "source": [
    "a=(3,4,5)\n",
    "b=[5,6,7]"
   ]
  },
  {
   "cell_type": "code",
   "execution_count": 12,
   "id": "564db55a",
   "metadata": {},
   "outputs": [
    {
     "name": "stdout",
     "output_type": "stream",
     "text": [
      "[5, 11, 7]\n"
     ]
    }
   ],
   "source": [
    "b[1]=11\n",
    "print(b)"
   ]
  },
  {
   "cell_type": "code",
   "execution_count": 13,
   "id": "1b6834c9",
   "metadata": {},
   "outputs": [
    {
     "ename": "TypeError",
     "evalue": "'tuple' object does not support item assignment",
     "output_type": "error",
     "traceback": [
      "\u001b[0;31m---------------------------------------------------------------------------\u001b[0m",
      "\u001b[0;31mTypeError\u001b[0m                                 Traceback (most recent call last)",
      "Input \u001b[0;32mIn [13]\u001b[0m, in \u001b[0;36m<cell line: 1>\u001b[0;34m()\u001b[0m\n\u001b[0;32m----> 1\u001b[0m a[\u001b[38;5;241m0\u001b[39m]\u001b[38;5;241m=\u001b[39m\u001b[38;5;241m11\u001b[39m\n\u001b[1;32m      2\u001b[0m \u001b[38;5;28mprint\u001b[39m(a)\n",
      "\u001b[0;31mTypeError\u001b[0m: 'tuple' object does not support item assignment"
     ]
    }
   ],
   "source": [
    "a[0]=11\n",
    "print(a)"
   ]
  },
  {
   "cell_type": "markdown",
   "id": "aabd6f9e",
   "metadata": {},
   "source": [
    "#### 2. Key features: \n",
    "#### easy to read\n",
    "#### easy to use \n",
    "#### free and open source\n",
    "#### interpreted language \n",
    "#### object oriented language\n",
    "#### extensible \n",
    "#### portable \n",
    "#### large standard library "
   ]
  },
  {
   "cell_type": "markdown",
   "id": "c100870d",
   "metadata": {},
   "source": [
    "#### 3. List comprehensions create a new list based on an existing list "
   ]
  },
  {
   "cell_type": "code",
   "execution_count": 101,
   "id": "97e81620",
   "metadata": {},
   "outputs": [
    {
     "data": {
      "text/plain": [
       "[0, 1, 2, 3, 4, 5, 6, 7, 8, 9, 10, 11, 12, 13, 14, 15, 16, 17, 18, 19]"
      ]
     },
     "execution_count": 101,
     "metadata": {},
     "output_type": "execute_result"
    }
   ],
   "source": [
    "list1=[]\n",
    "for i in range(0,20): \n",
    "    list1.append(i)\n",
    "    \n",
    "list1"
   ]
  },
  {
   "cell_type": "markdown",
   "id": "ffdb1fd1",
   "metadata": {},
   "source": [
    "#### 4. Data types: integers, floating point integers, string, list, tuple, dict, "
   ]
  },
  {
   "cell_type": "code",
   "execution_count": 14,
   "id": "f20de43f",
   "metadata": {},
   "outputs": [
    {
     "data": {
      "text/plain": [
       "int"
      ]
     },
     "execution_count": 14,
     "metadata": {},
     "output_type": "execute_result"
    }
   ],
   "source": [
    "a=4\n",
    "type(a)"
   ]
  },
  {
   "cell_type": "code",
   "execution_count": 15,
   "id": "b4cf5d6e",
   "metadata": {},
   "outputs": [
    {
     "data": {
      "text/plain": [
       "float"
      ]
     },
     "execution_count": 15,
     "metadata": {},
     "output_type": "execute_result"
    }
   ],
   "source": [
    "b=4.5\n",
    "type(b)"
   ]
  },
  {
   "cell_type": "code",
   "execution_count": 17,
   "id": "74f3a1af",
   "metadata": {},
   "outputs": [
    {
     "data": {
      "text/plain": [
       "str"
      ]
     },
     "execution_count": 17,
     "metadata": {},
     "output_type": "execute_result"
    }
   ],
   "source": [
    "c=\"Hello\"\n",
    "type(c)"
   ]
  },
  {
   "cell_type": "code",
   "execution_count": 18,
   "id": "488a1783",
   "metadata": {},
   "outputs": [
    {
     "data": {
      "text/plain": [
       "list"
      ]
     },
     "execution_count": 18,
     "metadata": {},
     "output_type": "execute_result"
    }
   ],
   "source": [
    "d=[5,6,7]\n",
    "type(d)"
   ]
  },
  {
   "cell_type": "code",
   "execution_count": 19,
   "id": "874fd716",
   "metadata": {},
   "outputs": [
    {
     "data": {
      "text/plain": [
       "tuple"
      ]
     },
     "execution_count": 19,
     "metadata": {},
     "output_type": "execute_result"
    }
   ],
   "source": [
    "e=(5,6,7)\n",
    "type(e)"
   ]
  },
  {
   "cell_type": "code",
   "execution_count": 20,
   "id": "f3acee8d",
   "metadata": {},
   "outputs": [
    {
     "data": {
      "text/plain": [
       "dict"
      ]
     },
     "execution_count": 20,
     "metadata": {},
     "output_type": "execute_result"
    }
   ],
   "source": [
    "f={4:5, 6:7}\n",
    "type(f)"
   ]
  },
  {
   "cell_type": "markdown",
   "id": "cc65edb1",
   "metadata": {},
   "source": [
    "#### 5. List slicing is used to select specific sections of a list "
   ]
  },
  {
   "cell_type": "code",
   "execution_count": 21,
   "id": "333f4da7",
   "metadata": {},
   "outputs": [
    {
     "data": {
      "text/plain": [
       "[4, 5, 6, 7, 8]"
      ]
     },
     "execution_count": 21,
     "metadata": {},
     "output_type": "execute_result"
    }
   ],
   "source": [
    "list1=[4,5,6,7,8,9,10,11,12,13,14,15]\n",
    "list1[0:5]"
   ]
  },
  {
   "cell_type": "markdown",
   "id": "e93700e2",
   "metadata": {},
   "source": [
    "#### 6. Reserved words are identifiers that cannot be used as variable names - these words show as different colors indicating that they can't be used - each word has its own use - some work together "
   ]
  },
  {
   "cell_type": "code",
   "execution_count": 57,
   "id": "6f0b8e8b",
   "metadata": {},
   "outputs": [],
   "source": [
    "True \n",
    "False\n",
    "None "
   ]
  },
  {
   "cell_type": "code",
   "execution_count": 58,
   "id": "7ea94eb2",
   "metadata": {},
   "outputs": [
    {
     "ename": "SyntaxError",
     "evalue": "invalid syntax (128136457.py, line 1)",
     "output_type": "error",
     "traceback": [
      "\u001b[0;36m  Input \u001b[0;32mIn [58]\u001b[0;36m\u001b[0m\n\u001b[0;31m    def\u001b[0m\n\u001b[0m        ^\u001b[0m\n\u001b[0;31mSyntaxError\u001b[0m\u001b[0;31m:\u001b[0m invalid syntax\n"
     ]
    }
   ],
   "source": [
    "def \n",
    "del \n",
    "if \n",
    "elif \n",
    "else \n",
    "and \n",
    "as \n",
    "break \n",
    "class \n",
    "continue \n",
    "import \n",
    "raise \n",
    "return \n",
    "in \n",
    "is \n",
    "for \n",
    "global \n",
    "not \n",
    "or \n",
    "while \n",
    "with \n",
    "assert \n",
    "except \n",
    "finally \n",
    "lambda \n",
    "nonlocal \n",
    "pass \n",
    "try \n",
    "yield "
   ]
  },
  {
   "cell_type": "markdown",
   "id": "8d6f01bf",
   "metadata": {},
   "source": [
    "#### 7. Local variables are within a function and global variables are outside a function "
   ]
  },
  {
   "cell_type": "code",
   "execution_count": 22,
   "id": "2c995230",
   "metadata": {},
   "outputs": [
    {
     "data": {
      "text/plain": [
       "10"
      ]
     },
     "execution_count": 22,
     "metadata": {},
     "output_type": "execute_result"
    }
   ],
   "source": [
    "x=20 # global \n",
    "def function(num): \n",
    "    return num+5 \n",
    "function(5)"
   ]
  },
  {
   "cell_type": "markdown",
   "id": "882e5a68",
   "metadata": {},
   "source": [
    "#### 8. Python is case sensitive - capitalization matters "
   ]
  },
  {
   "cell_type": "code",
   "execution_count": 25,
   "id": "db205188",
   "metadata": {},
   "outputs": [],
   "source": [
    "a=[\"a\",\"b\",\"c\"]\n",
    "b=[\"A\",\"B\",\"C\"]\n",
    "c=[\"a\",\"b\",\"c\"]"
   ]
  },
  {
   "cell_type": "code",
   "execution_count": 26,
   "id": "c41bff65",
   "metadata": {},
   "outputs": [
    {
     "data": {
      "text/plain": [
       "True"
      ]
     },
     "execution_count": 26,
     "metadata": {},
     "output_type": "execute_result"
    }
   ],
   "source": [
    "a==c"
   ]
  },
  {
   "cell_type": "code",
   "execution_count": 27,
   "id": "68c7a181",
   "metadata": {},
   "outputs": [
    {
     "data": {
      "text/plain": [
       "False"
      ]
     },
     "execution_count": 27,
     "metadata": {},
     "output_type": "execute_result"
    }
   ],
   "source": [
    "a==b"
   ]
  },
  {
   "cell_type": "markdown",
   "id": "fe83a63e",
   "metadata": {},
   "source": [
    "#### 9. Functions are a section of code that only run when called - group the code together to perform the whole action when called "
   ]
  },
  {
   "cell_type": "code",
   "execution_count": 29,
   "id": "c9eb4726",
   "metadata": {},
   "outputs": [
    {
     "data": {
      "text/plain": [
       "30"
      ]
     },
     "execution_count": 29,
     "metadata": {},
     "output_type": "execute_result"
    }
   ],
   "source": [
    "def multiply(num1, num2): \n",
    "    return num1*num2\n",
    "\n",
    "multiply(5,6)"
   ]
  },
  {
   "cell_type": "markdown",
   "id": "2f1662db",
   "metadata": {},
   "source": [
    "#### 10. __init__ is used for classes and simply initializes the attributes \n",
    "\n",
    "#### 11. self is used to represent the instance of the class - allows you to access the attributes of the class"
   ]
  },
  {
   "cell_type": "code",
   "execution_count": 38,
   "id": "31c38ffc",
   "metadata": {},
   "outputs": [
    {
     "name": "stdout",
     "output_type": "stream",
     "text": [
      "10.0\n",
      "24.0\n"
     ]
    }
   ],
   "source": [
    "class Triangle(): \n",
    "    def __init__(self, base, height): \n",
    "        self.base=base\n",
    "        self.height=height \n",
    "        \n",
    "    def Area(self): \n",
    "        ar=(0.5)*(self.base*self.height)\n",
    "        print(ar)\n",
    "        \n",
    "tri=Triangle(4,5)\n",
    "tri.Area()\n",
    "\n",
    "tri2=Triangle(8,6)\n",
    "tri2.Area()"
   ]
  },
  {
   "cell_type": "markdown",
   "id": "7f467bed",
   "metadata": {},
   "source": [
    "#### 12. Break ends the while loop nicely, continue skips over an input that doesn't work with the code - allowing you to continue without an error "
   ]
  },
  {
   "cell_type": "code",
   "execution_count": 73,
   "id": "44c2979d",
   "metadata": {},
   "outputs": [
    {
     "name": "stdout",
     "output_type": "stream",
     "text": [
      "Enter a number 1-5: 2\n",
      "Guess higher\n",
      "Enter a number 1-5: 4\n",
      "Guess lower\n",
      "Enter a number 1-5: 3\n"
     ]
    }
   ],
   "source": [
    "prompt=\"Enter a number 1-5: \"\n",
    "active=True \n",
    "while active: \n",
    "    num=int(input(prompt))\n",
    "    if num==3: \n",
    "        break\n",
    "    elif num<3: \n",
    "        print(\"Guess higher\")\n",
    "    else: \n",
    "        print(\"Guess lower\")\n"
   ]
  },
  {
   "cell_type": "code",
   "execution_count": 63,
   "id": "c4f13bd8",
   "metadata": {
    "scrolled": true
   },
   "outputs": [
    {
     "name": "stdout",
     "output_type": "stream",
     "text": [
      "1\n",
      "2\n",
      "3\n",
      "4\n",
      "6\n",
      "7\n",
      "8\n",
      "9\n",
      "10\n"
     ]
    }
   ],
   "source": [
    "for numbers in range (1,11): \n",
    "    if numbers==5: \n",
    "        continue \n",
    "    print(numbers)  "
   ]
  },
  {
   "cell_type": "markdown",
   "id": "3b672b85",
   "metadata": {},
   "source": [
    "#### 13. To generate random numbers: \n",
    "\n",
    "#### This will return a random number between 1 and 100 "
   ]
  },
  {
   "cell_type": "code",
   "execution_count": 40,
   "id": "07879b0c",
   "metadata": {},
   "outputs": [
    {
     "data": {
      "text/plain": [
       "59"
      ]
     },
     "execution_count": 40,
     "metadata": {},
     "output_type": "execute_result"
    }
   ],
   "source": [
    "import random \n",
    "random.randint(1,101)"
   ]
  },
  {
   "cell_type": "markdown",
   "id": "111e2270",
   "metadata": {},
   "source": [
    "#### 14. Dictionaries are key value pairs - you call on the key and it returns the values "
   ]
  },
  {
   "cell_type": "code",
   "execution_count": 42,
   "id": "74135d25",
   "metadata": {},
   "outputs": [
    {
     "data": {
      "text/plain": [
       "'Christmas'"
      ]
     },
     "execution_count": 42,
     "metadata": {},
     "output_type": "execute_result"
    }
   ],
   "source": [
    "dict1={'October' : 'Halloween', \n",
    "      'December' : 'Christmas', \n",
    "      'April' : 'Easter'}\n",
    "dict1['December']"
   ]
  },
  {
   "cell_type": "markdown",
   "id": "3e0887c3",
   "metadata": {},
   "source": [
    "#### 15. *args is used so you can use any number of arguments - it means that the function can receive any additional number of arguments "
   ]
  },
  {
   "cell_type": "code",
   "execution_count": 74,
   "id": "dae78295",
   "metadata": {},
   "outputs": [
    {
     "data": {
      "text/plain": [
       "18"
      ]
     },
     "execution_count": 74,
     "metadata": {},
     "output_type": "execute_result"
    }
   ],
   "source": [
    "def addition(*args): \n",
    "    return sum(args)\n",
    "\n",
    "addition(5,6,7)"
   ]
  },
  {
   "cell_type": "code",
   "execution_count": 75,
   "id": "87a66d1e",
   "metadata": {},
   "outputs": [
    {
     "data": {
      "text/plain": [
       "45"
      ]
     },
     "execution_count": 75,
     "metadata": {},
     "output_type": "execute_result"
    }
   ],
   "source": [
    "addition(1,2,3,4,5,6,7,8,9)"
   ]
  },
  {
   "cell_type": "markdown",
   "id": "9ace82fe",
   "metadata": {},
   "source": [
    "#### 16. len() gives the length of whatever you input in the parenthesis "
   ]
  },
  {
   "cell_type": "code",
   "execution_count": 46,
   "id": "0226b12b",
   "metadata": {},
   "outputs": [
    {
     "data": {
      "text/plain": [
       "10"
      ]
     },
     "execution_count": 46,
     "metadata": {},
     "output_type": "execute_result"
    }
   ],
   "source": [
    "h=range(60, 70)\n",
    "len(h)"
   ]
  },
  {
   "cell_type": "markdown",
   "id": "9ccc0e4f",
   "metadata": {},
   "source": [
    "#### 17. To add to a list, use append (adds to end of list) or insert (inserts into specific spot) - to remove from a list, use delete (deletes from specific spot), pop (end or specific spot), or remove (specific spot) "
   ]
  },
  {
   "cell_type": "code",
   "execution_count": 47,
   "id": "b3a6c170",
   "metadata": {},
   "outputs": [],
   "source": [
    "States=['Kentucky', 'Alabama', 'California']"
   ]
  },
  {
   "cell_type": "code",
   "execution_count": 48,
   "id": "e6e475d5",
   "metadata": {},
   "outputs": [
    {
     "name": "stdout",
     "output_type": "stream",
     "text": [
      "['New York', 'Kentucky', 'Alabama', 'California', 'Ohio']\n"
     ]
    }
   ],
   "source": [
    "States.append('Ohio')\n",
    "States.insert(0, 'New York')\n",
    "print(States)"
   ]
  },
  {
   "cell_type": "code",
   "execution_count": 49,
   "id": "2aad3bbf",
   "metadata": {},
   "outputs": [
    {
     "name": "stdout",
     "output_type": "stream",
     "text": [
      "['Kentucky', 'Alabama', 'California', 'Ohio']\n"
     ]
    }
   ],
   "source": [
    "del States[0]\n",
    "print(States)"
   ]
  },
  {
   "cell_type": "code",
   "execution_count": 50,
   "id": "8d440430",
   "metadata": {},
   "outputs": [
    {
     "name": "stdout",
     "output_type": "stream",
     "text": [
      "['Kentucky', 'Alabama', 'Ohio']\n"
     ]
    }
   ],
   "source": [
    "States.pop(2)\n",
    "print(States)"
   ]
  },
  {
   "cell_type": "code",
   "execution_count": 51,
   "id": "5bbce4e9",
   "metadata": {},
   "outputs": [
    {
     "name": "stdout",
     "output_type": "stream",
     "text": [
      "['Kentucky', 'Ohio']\n"
     ]
    }
   ],
   "source": [
    "States.remove('Alabama')\n",
    "print(States)"
   ]
  },
  {
   "cell_type": "markdown",
   "id": "112ad883",
   "metadata": {},
   "source": [
    "#### 18. Prime Number"
   ]
  },
  {
   "cell_type": "code",
   "execution_count": 89,
   "id": "a4e0ddfc",
   "metadata": {
    "scrolled": true
   },
   "outputs": [
    {
     "name": "stdout",
     "output_type": "stream",
     "text": [
      "Choose a number: 11\n",
      "11 is prime\n"
     ]
    }
   ],
   "source": [
    "num=int(input(\"Choose a number: \"))\n",
    "if num>1:\n",
    "    for i in range(2, (int(num/2)+1)): \n",
    "        if (num%i)==0: \n",
    "            print(f\"{num} is not prime\")\n",
    "            break\n",
    "        else: \n",
    "            print(f\"{num} is prime\")\n",
    "            break\n",
    "else: \n",
    "    print(f\"{num} is not prime\")"
   ]
  },
  {
   "cell_type": "markdown",
   "id": "cef2c795",
   "metadata": {},
   "source": [
    "#### 19. Palindrome - when True, the word is a palindrome"
   ]
  },
  {
   "cell_type": "code",
   "execution_count": 97,
   "id": "9918c75a",
   "metadata": {},
   "outputs": [
    {
     "name": "stdout",
     "output_type": "stream",
     "text": [
      "Enter your word: hannah\n",
      "True\n",
      "Yes\n"
     ]
    }
   ],
   "source": [
    "word=input(\"Enter your word: \")\n",
    "def palindrome(word): \n",
    "    return word==word[::-1]\n",
    "\n",
    "print(palindrome(word))\n",
    "\n",
    "if palindrome(word): \n",
    "    print(\"Yes\")\n",
    "else: print(\"No\")"
   ]
  },
  {
   "cell_type": "markdown",
   "id": "00326acf",
   "metadata": {},
   "source": [
    "#### 20. Del removes items based on its position - you call it by position number. Remove removes items when called directly "
   ]
  },
  {
   "cell_type": "code",
   "execution_count": 52,
   "id": "4b0957eb",
   "metadata": {},
   "outputs": [],
   "source": [
    "list3=['cat', 'dog', 'fish', 'horse', 'pig']"
   ]
  },
  {
   "cell_type": "code",
   "execution_count": 53,
   "id": "521c7bcc",
   "metadata": {},
   "outputs": [
    {
     "name": "stdout",
     "output_type": "stream",
     "text": [
      "['cat', 'dog', 'horse', 'pig']\n"
     ]
    }
   ],
   "source": [
    "del list3[2]\n",
    "print(list3)"
   ]
  },
  {
   "cell_type": "code",
   "execution_count": 54,
   "id": "8ae5c224",
   "metadata": {},
   "outputs": [
    {
     "name": "stdout",
     "output_type": "stream",
     "text": [
      "['cat', 'dog', 'pig']\n"
     ]
    }
   ],
   "source": [
    "list3.remove('horse')\n",
    "print(list3)"
   ]
  }
 ],
 "metadata": {
  "kernelspec": {
   "display_name": "Python 3 (ipykernel)",
   "language": "python",
   "name": "python3"
  },
  "language_info": {
   "codemirror_mode": {
    "name": "ipython",
    "version": 3
   },
   "file_extension": ".py",
   "mimetype": "text/x-python",
   "name": "python",
   "nbconvert_exporter": "python",
   "pygments_lexer": "ipython3",
   "version": "3.9.12"
  }
 },
 "nbformat": 4,
 "nbformat_minor": 5
}
